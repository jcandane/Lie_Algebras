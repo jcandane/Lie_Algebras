{
  "nbformat": 4,
  "nbformat_minor": 0,
  "metadata": {
    "colab": {
      "name": "LieAlgebra.ipynb",
      "provenance": [],
      "authorship_tag": "ABX9TyNIdjbZ0kQ0MDfPOrKQBHSB",
      "include_colab_link": true
    },
    "kernelspec": {
      "name": "python3",
      "display_name": "Python 3"
    },
    "language_info": {
      "name": "python"
    }
  },
  "cells": [
    {
      "cell_type": "markdown",
      "metadata": {
        "id": "view-in-github",
        "colab_type": "text"
      },
      "source": [
        "<a href=\"https://colab.research.google.com/github/jcandane/Lie_Algebras/blob/main/LieAlgebra.ipynb\" target=\"_parent\"><img src=\"https://colab.research.google.com/assets/colab-badge.svg\" alt=\"Open In Colab\"/></a>"
      ]
    },
    {
      "cell_type": "markdown",
      "source": [
        "# Adjoint Representation of $\\mathfrak{su}(n)$ Lie Algebras"
      ],
      "metadata": {
        "id": "Rmu-vw3iYwIO"
      }
    },
    {
      "cell_type": "markdown",
      "source": [
        "This consisnts of 3 parts, \n",
        "\n",
        "\n",
        "1.   Off-diagonal 1 $\\left( \\frac{n(n-1)}{2} \\text{ elements}\\right)$,\n",
        "2.   off-diagonal $i$ $\\left(\\frac{n(n-1)}{2} \\text{ elements} \\right)$,\n",
        "3.   on-diagonal part $\\left( n-1 \\text{ elements}\\right)$.\n",
        "\n",
        "i.e. $\\frac{n(n-1)}{2} + \\frac{n(n-1)}{2} + n -1 = n^2 -1$ number of elements in the basis of the $\\mathfrak{su}(n)$ Lie-Algebra"
      ],
      "metadata": {
        "id": "7xVmRQ4XY37p"
      }
    },
    {
      "cell_type": "code",
      "execution_count": 1,
      "metadata": {
        "id": "d_NlbkDHYtw8"
      },
      "outputs": [],
      "source": [
        "import numpy as np\n",
        "\n",
        "N = 4\n",
        "\n",
        "## diagonal part\n",
        "A=np.tril( np.ones((N-1,N)) )\n",
        "i,j = np.indices(A.shape)\n",
        "A[i==j-1] = -np.arange(1,N)\n",
        "\n",
        "ZZ = np.zeros((N-1, N, N))\n",
        "for i in range(len(A)):\n",
        "    ZZ[i] = np.diag(A[i])\n",
        "\n",
        "## off diagonal part 1\n",
        "a, b = np.where( (np.ones((N,N)) - np.eye(N)) == 1. )\n",
        "i = a[a < b]\n",
        "j = b[a < b]\n",
        "\n",
        "Zr = np.zeros((N*(N-1)//2, N, N), dtype=np.complex128)\n",
        "Zi = np.zeros((N*(N-1)//2, N, N), dtype=np.complex128)\n",
        "Zr[np.arange(len(i)), i, j] = 1\n",
        "Zr[np.arange(len(i)), j, i] = 1\n",
        "Zi[np.arange(len(i)), i, j] = -1j\n",
        "Zi[np.arange(len(i)), j, i] =  1j\n",
        "\n",
        "lie_algebra = np.concatenate( (ZZ,np.concatenate((Zr, Zi))))\n",
        "\n",
        "### http://www.ejtp.com/articles/ejtpv10i28p9.pdf\n",
        "\n",
        "def get_su(N):\n",
        "\n",
        "    A=np.tril( np.ones((N-1,N)) )\n",
        "    i,j = np.indices(A.shape)\n",
        "    A[i==j-1] = -np.arange(1,N)\n",
        "\n",
        "    ZZ = np.zeros((N-1, N, N), dtype=np.complex128)\n",
        "    for i in range(len(A)):\n",
        "        ZZ[i] = np.diag(A[i]) / np.sqrt( (i+1)*(i+2)/2 )\n",
        "\n",
        "    ## off diagonal part 1\n",
        "    a, b = np.where( (np.ones((N,N)) - np.eye(N)) == 1. )\n",
        "    i = a[a < b]\n",
        "    j = b[a < b]\n",
        "\n",
        "    Zr = np.zeros((N*(N-1)//2, N, N), dtype=np.complex128)\n",
        "    Zi = np.zeros((N*(N-1)//2, N, N), dtype=np.complex128)\n",
        "    Zr[np.arange(len(i)), i, j] = 1\n",
        "    Zr[np.arange(len(i)), j, i] = 1\n",
        "    Zi[np.arange(len(i)), i, j] = -1j\n",
        "    Zi[np.arange(len(i)), j, i] =  1j\n",
        "\n",
        "    return np.concatenate( (ZZ,np.concatenate((Zr, Zi))))"
      ]
    },
    {
      "cell_type": "markdown",
      "source": [
        "This is normalized to: $\\sigma^{Ipq}\\sigma^{Jpq} = 2\\delta^{IJ}$"
      ],
      "metadata": {
        "id": "-FN79ch6k2IX"
      }
    },
    {
      "cell_type": "code",
      "source": [
        "λ = get_su(12)\n",
        "print( np.allclose( np.diag( np.einsum(\"Ipq, Jqp -> IJ\", λ, λ).real ), 2*np.ones(λ.shape[0]) ) )"
      ],
      "metadata": {
        "colab": {
          "base_uri": "https://localhost:8080/"
        },
        "id": "FAwPNDBIcRn8",
        "outputId": "479533c2-ea8a-4e8f-8201-ee4e8a82b06c"
      },
      "execution_count": 2,
      "outputs": [
        {
          "output_type": "stream",
          "name": "stdout",
          "text": [
            "True\n"
          ]
        }
      ]
    },
    {
      "cell_type": "markdown",
      "source": [
        "## Now lets compute the Structure Constants, $f^{IJK}$\n"
      ],
      "metadata": {
        "id": "jjMVYYYTlOS3"
      }
    },
    {
      "cell_type": "markdown",
      "source": [
        "$\\begin{aligned}\n",
        "f^{IJK}&= -\\frac{i}{4} \\left( \\, \\lambda^I_{pq}[\\lambda,\\lambda]^{JK}_{pq} \\,\\right)^{IJK}\n",
        "\\end{aligned}$"
      ],
      "metadata": {
        "id": "-MWRDSgJ3HAh"
      }
    },
    {
      "cell_type": "code",
      "source": [
        "def get_struture_constants(λ):\n",
        "  return -1j/4 * np.einsum(\"Ipq, JKpq -> IJK\", λ, (np.einsum(\"Ipr, Jrq -> IJpq\", λ, λ) - np.einsum(\"Jpr, Irq -> IJpq\", λ, λ)))"
      ],
      "metadata": {
        "id": "w-8sFe2yAYzC"
      },
      "execution_count": 3,
      "outputs": []
    },
    {
      "cell_type": "markdown",
      "source": [
        "## Test for SU(2)"
      ],
      "metadata": {
        "id": "_BQDJXOWACv_"
      }
    },
    {
      "cell_type": "code",
      "source": [
        "λ = get_su(2)\n",
        "f_IJK = get_struture_constants(λ)\n",
        "\n",
        "#λ[2] @ λ[3] - λ[3] @ λ[2]\n",
        "\n",
        "print(-1j/2 *(λ[0] @ λ[1] - λ[1] @ λ[0]) == np.einsum(\"IJK, Kpq -> IJpq\", f_IJK, λ)[0,1])\n",
        "print(-1j/2 *(λ[1] @ λ[2] - λ[2] @ λ[1]) == np.einsum(\"IJK, Kpq -> IJpq\", f_IJK, λ)[1,2])\n",
        "print(-1j/2 *(λ[1] @ λ[0] - λ[0] @ λ[1]) == np.einsum(\"IJK, Kpq -> IJpq\", f_IJK, λ)[1,0])"
      ],
      "metadata": {
        "colab": {
          "base_uri": "https://localhost:8080/"
        },
        "id": "_Y94eTuaAE3Y",
        "outputId": "e80e905d-fd88-480d-e3a0-6d4306b250b2"
      },
      "execution_count": 4,
      "outputs": [
        {
          "output_type": "stream",
          "name": "stdout",
          "text": [
            "[[ True  True]\n",
            " [ True  True]]\n",
            "[[ True  True]\n",
            " [ True  True]]\n",
            "[[ True  True]\n",
            " [ True  True]]\n"
          ]
        }
      ]
    },
    {
      "cell_type": "markdown",
      "source": [
        "## Test for SU(3)"
      ],
      "metadata": {
        "id": "51XJH2k8_LCd"
      }
    },
    {
      "cell_type": "code",
      "source": [
        "λ = get_su(3)\n",
        "np.allclose( np.diag( np.einsum(\"Ipq, Jqp -> IJ\", λ, λ).real ), 2*np.ones(λ.shape[0]) )\n",
        "\n",
        "λλ    = -1j/4 * (np.einsum(\"Ipr, Jrq -> IJpq\", λ, λ) - np.einsum(\"Jpr, Irq -> IJpq\", λ, λ))\n",
        "f_IJK = np.einsum(\"Ipq, JKpq -> IJK\", λ, λλ)\n",
        "\n",
        "## λ[3], λ[7], λ[1] nonzero Gellman Matrices\n",
        "print( -1j/2 *(λ[3] @ λ[7] - λ[7] @ λ[3]) == np.einsum(\"IJK, Kpq -> IJpq\", f_IJK, λ)[3,7] )"
      ],
      "metadata": {
        "colab": {
          "base_uri": "https://localhost:8080/"
        },
        "id": "Uzmcrfve_L-N",
        "outputId": "11284324-920c-4a54-8f03-bcdc579b11ae"
      },
      "execution_count": 5,
      "outputs": [
        {
          "output_type": "stream",
          "name": "stdout",
          "text": [
            "[[ True  True  True]\n",
            " [ True  True  True]\n",
            " [ True  True  True]]\n"
          ]
        }
      ]
    },
    {
      "cell_type": "code",
      "source": [
        ""
      ],
      "metadata": {
        "id": "X7u0v_pi_q8m"
      },
      "execution_count": 5,
      "outputs": []
    }
  ]
}
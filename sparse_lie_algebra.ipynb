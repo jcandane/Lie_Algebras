{
  "nbformat": 4,
  "nbformat_minor": 0,
  "metadata": {
    "colab": {
      "provenance": [],
      "authorship_tag": "ABX9TyN9bzDwF1gkqTzrA71Ribii",
      "include_colab_link": true
    },
    "kernelspec": {
      "name": "python3",
      "display_name": "Python 3"
    },
    "language_info": {
      "name": "python"
    }
  },
  "cells": [
    {
      "cell_type": "markdown",
      "metadata": {
        "id": "view-in-github",
        "colab_type": "text"
      },
      "source": [
        "<a href=\"https://colab.research.google.com/github/jcandane/Lie_Algebras/blob/main/sparse_lie_algebra.ipynb\" target=\"_parent\"><img src=\"https://colab.research.google.com/assets/colab-badge.svg\" alt=\"Open In Colab\"/></a>"
      ]
    },
    {
      "cell_type": "markdown",
      "source": [
        "## Sparse-Tensor fundamental-representation of $\\mathfrak{su}(N)$\n",
        "\n",
        "###In this work, we generate the sparse $\\mathfrak{su}(N)$ Lie-Algebra-elements for arbtirary $N$ in the fundamental-representation, $t^a_{\\alpha\\beta}$, with $a$ enumerating the elements, and $\\alpha\\beta$ give the spinor-basis. With-or-without the Jordan-Wigner transformation, *e.g.* $S^\\pm = \\frac{\\sigma_x \\pm i\\sigma_y}{2}$. The elements are placed in the usual order (of Pauli, for $N=2$, and Gellman, for $N=3$, such that the smaller $\\mathfrak{su}(N)$ sub-algebras are transparent, *i.e.* the off-diagonal-elements are followed by their Cartan-element.\n",
        "\n",
        "j.candanedo 4/11/2023"
      ],
      "metadata": {
        "id": "0IcNIt_7Wbpy"
      }
    },
    {
      "cell_type": "code",
      "execution_count": 1,
      "metadata": {
        "id": "DOlP8uT-u78M"
      },
      "outputs": [],
      "source": [
        "import numpy as np"
      ]
    },
    {
      "cell_type": "markdown",
      "source": [
        "## regular rep (incomplete for Cartan generator constant)"
      ],
      "metadata": {
        "id": "ILdaKGXlQxxk"
      }
    },
    {
      "cell_type": "code",
      "source": [
        "N = 8\n",
        "\n",
        "### reg.\n",
        "sparse_elements = int( 2*N*(N-1) + N*(N+1)/2 - 1 )\n",
        "i = 0 ## sparse-array entry\n",
        "j = 0 ## generator-number\n",
        "t = np.zeros((sparse_elements,3), dtype=np.int32)\n",
        "T = np.zeros(sparse_elements, dtype=complex)\n",
        "for n in range(N-1): ## loop over Cartan-generators\n",
        "    for m in range(n+1): ## loop over off-diagonals\n",
        "        ## real generator\n",
        "        t[i] = np.array([j, m, n+1])\n",
        "        T[i] = 1.\n",
        "        i+=1\n",
        "        t[i] = np.array([j, n+1, m])\n",
        "        T[i] = 1.\n",
        "        i+=1\n",
        "        j+=1\n",
        "\n",
        "        ## imag generator\n",
        "        t[i] = np.array([j, m, n+1]) \n",
        "        T[i] = 1.j\n",
        "        i+=1\n",
        "        t[i] = np.array([j, n+1, m])\n",
        "        T[i] = -1.j\n",
        "        i+=1\n",
        "        j+=1\n",
        "\n",
        "    ## constant for Cartan-genorators.\n",
        "    for m in range(n+1): ## loop over sparse Cartan-generator elements\n",
        "        ## place-in Cartan-elements\n",
        "        t[i] = np.array([j, m, m])\n",
        "        T[i] = 1\n",
        "        i+=1\n",
        "    ## last element of Cartan generator\n",
        "    t[i] = np.array([j, n+1, n+1])\n",
        "    T[i] = -n-1\n",
        "    i+=1\n",
        "    j+=1"
      ],
      "metadata": {
        "id": "41GgDbtlu_Up"
      },
      "execution_count": 2,
      "outputs": []
    },
    {
      "cell_type": "markdown",
      "source": [
        "## Jordan-Wigner"
      ],
      "metadata": {
        "id": "0IGX9hHkQ063"
      }
    },
    {
      "cell_type": "code",
      "source": [
        "N = 4000\n",
        "\n",
        "### Jordan-Wigner Rep.\n",
        "sparse_elements = int( N*(N-1) + N*(N+1)/2 - 1 )\n",
        "i = 0 ## sparse-array entry\n",
        "j = 0 ## generator-number\n",
        "t = np.zeros((sparse_elements,3), dtype=np.int32)\n",
        "T = np.zeros(sparse_elements)\n",
        "for n in range(N-1): ## loop over Cartan-generators\n",
        "    for m in range(n+1): ## loop over off-diagonals\n",
        "        ## S^+\n",
        "        t[i] = np.array([j, m, n+1])\n",
        "        T[i] = 1.\n",
        "        i+=1\n",
        "        j+=1\n",
        "\n",
        "        ## S^-\n",
        "        t[i] = np.array([j, n+1, m]) \n",
        "        T[i] = 1.\n",
        "        i+=1\n",
        "        j+=1\n",
        "\n",
        "    ## build Cartan-genorators.\n",
        "    C = 1/np.sqrt( (n+1)*(n+2)/2 ) ## constant for Cartan-genorators.\n",
        "    for m in range(n+1): ## loop over sparse Cartan-generator elements\n",
        "        ## place-in Cartan-elements\n",
        "        t[i] = np.array([j, m, m])\n",
        "        T[i] = C\n",
        "        i+=1\n",
        "    ## last element of Cartan generator\n",
        "    t[i] = np.array([j, n+1, n+1])\n",
        "    T[i] = (-n-1)*C\n",
        "    i+=1\n",
        "    j+=1\n",
        "\n",
        "len(t)"
      ],
      "metadata": {
        "id": "qs_ifdJGzcQ8",
        "colab": {
          "base_uri": "https://localhost:8080/"
        },
        "outputId": "43c68ae9-945d-4e8f-9a16-2e81df211510"
      },
      "execution_count": 3,
      "outputs": [
        {
          "output_type": "execute_result",
          "data": {
            "text/plain": [
              "23997999"
            ]
          },
          "metadata": {},
          "execution_count": 3
        }
      ]
    },
    {
      "cell_type": "markdown",
      "source": [
        "## result"
      ],
      "metadata": {
        "id": "F3OGfNxQT4AW"
      }
    },
    {
      "cell_type": "code",
      "source": [
        "def su(N, JW=False):\n",
        "    \"\"\"\n",
        "    j.candanedo 4/11/2023\n",
        "    GIVEN:  N , dimension of Lie-Algebra\n",
        "            JW, choice for Jordan-Wigner Transformation\n",
        "    GET:    sparse-array (t=array-of-tuples, T=data-array, out_shape=dense-array-shape)\n",
        "    \"\"\"\n",
        "\n",
        "    if JW:\n",
        "        sparse_elements = int( N*(N-1) + N*(N+1)/2 - 1 )\n",
        "        T = np.zeros(sparse_elements)\n",
        "    else:\n",
        "        sparse_elements = int( 2*N*(N-1) + N*(N+1)/2 - 1 )\n",
        "        T = np.zeros(sparse_elements, dtype=complex)\n",
        "    i = 0 ## sparse-array entry\n",
        "    j = 0 ## generator-number\n",
        "    t = np.zeros((sparse_elements,3), dtype=np.int32)\n",
        "    for n in range(N-1): ## loop over Cartan-generators\n",
        "        for m in range(n+1): ## loop over off-diagonals\n",
        "            ## real generator\n",
        "            t[i] = np.array([j, m, n+1])\n",
        "            T[i] = 1.\n",
        "            i+=1\n",
        "            if JW:\n",
        "                j+=1\n",
        "            t[i] = np.array([j, n+1, m])\n",
        "            T[i] = 1.\n",
        "            i+=1\n",
        "            j+=1\n",
        "\n",
        "            ## imag generator\n",
        "            if not JW:\n",
        "                t[i] = np.array([j, m, n+1]) \n",
        "                T[i] = 1.j\n",
        "                i+=1\n",
        "                t[i] = np.array([j, n+1, m])\n",
        "                T[i] = -1.j\n",
        "                i+=1\n",
        "                j+=1\n",
        "\n",
        "        ## constant for Cartan-genorators.\n",
        "        C = 1/np.sqrt( (n+1)*(n+2)/2 ) ## constant for Cartan-genorators.\n",
        "        for m in range(n+1): ## loop over sparse Cartan-generator elements\n",
        "            ## place-in Cartan-elements\n",
        "            t[i] = np.array([j, m, m])\n",
        "            T[i] = C\n",
        "            i+=1\n",
        "        ## last element of Cartan generator\n",
        "        t[i] = np.array([j, n+1, n+1])\n",
        "        T[i] = -(n+1)*C\n",
        "        i+=1\n",
        "        j+=1\n",
        "    out_shape = np.array([j,N,N])\n",
        "    return t, T, out_shape\n",
        "\n",
        "su(2, JW=True)"
      ],
      "metadata": {
        "colab": {
          "base_uri": "https://localhost:8080/"
        },
        "id": "gERiP-HcOOuK",
        "outputId": "7fbec6a7-ab3f-4250-fc14-c2f832bf00fe"
      },
      "execution_count": 4,
      "outputs": [
        {
          "output_type": "execute_result",
          "data": {
            "text/plain": [
              "(array([[0, 0, 1],\n",
              "        [1, 1, 0],\n",
              "        [2, 0, 0],\n",
              "        [2, 1, 1]], dtype=int32),\n",
              " array([ 1.,  1.,  1., -1.]),\n",
              " array([3, 2, 2]))"
            ]
          },
          "metadata": {},
          "execution_count": 4
        }
      ]
    },
    {
      "cell_type": "code",
      "source": [],
      "metadata": {
        "id": "xcu6JbBFU7i6"
      },
      "execution_count": 4,
      "outputs": []
    }
  ]
}